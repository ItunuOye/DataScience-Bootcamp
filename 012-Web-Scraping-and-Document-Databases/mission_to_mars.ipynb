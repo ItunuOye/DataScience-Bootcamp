{
 "cells": [
  {
   "cell_type": "code",
   "execution_count": null,
   "metadata": {},
   "outputs": [],
   "source": [
    "import os\n",
    "import pandas as pd\n",
    "from splinter import Browser\n",
    "from bs4 import BeautifulSoup\n",
    "import requests"
   ]
  },
  {
   "cell_type": "code",
   "execution_count": null,
   "metadata": {},
   "outputs": [],
   "source": [
    "\n",
    "!which chromedriver"
   ]
  },
  {
   "cell_type": "code",
   "execution_count": null,
   "metadata": {},
   "outputs": [],
   "source": [
    "\n",
    "os.getcwd()"
   ]
  },
  {
   "cell_type": "code",
   "execution_count": null,
   "metadata": {},
   "outputs": [],
   "source": [
    "def init_browser():\n",
    "    # @NOTE: Replace the path with your actual path to the chromedriver\n",
    "    executable_path = {\"executable_path\": \"C:\\\\Users\\\\keg827\\\\ChromeDriver\\\\chromedriver.exe\"}\n",
    "    return Browser(\"chrome\", **executable_path, headless=False)"
   ]
  },
  {
   "cell_type": "markdown",
   "metadata": {},
   "source": [
    "##  Scrape NASA Mars News¶"
   ]
  },
  {
   "cell_type": "code",
   "execution_count": null,
   "metadata": {},
   "outputs": [],
   "source": [
    "news_title = []\n",
    "news_teaser = []\n",
    "news = {}"
   ]
  },
  {
   "cell_type": "code",
   "execution_count": null,
   "metadata": {},
   "outputs": [],
   "source": [
    "def scrapeNewsTitle():\n",
    "    # URL of page to be scraped\n",
    "    news_title_url = 'https://mars.nasa.gov/news'\n",
    "    # Retrieve page with the requests module\n",
    "    news_title_response = requests.get(news_title_url)\n",
    "    \n",
    "    # Create BeautifulSoup object; parse with 'html.parser'\n",
    "    soup = BeautifulSoup(news_title_response.text, 'html.parser')\n",
    "    \n",
    "    #browser = init_browser()\n",
    "    #url = \"https://mars.nasa.gov/news\"\n",
    "    #browser.visit(url)\n",
    "\n",
    "    #html = browser.html\n",
    "    #soup = BeautifulSoup(html, \"html.parser\")\n",
    "    \n",
    "      \n",
    "    for div in soup.findAll('div', {'class': 'content_title'}):\n",
    "        a = div.findAll('a')\n",
    "        for link in a:\n",
    "            href = link.get('href')\n",
    "            headline_base = link.get_text()\n",
    "            headline_strip_front = headline_base.lstrip()\n",
    "            headline_strip_back = headline_strip_front.rstrip()\n",
    "            #print(href)\n",
    "            #print(headline)\n",
    "            news_title.append(headline_strip_back)\n",
    "            #news[\"news_title\"] = headline_strip_back\n",
    "   \n",
    "    news[\"news_title\"] = news_title[0]\n",
    "    #print(news_title)\n",
    "    #print(news_teaser)\n",
    "    #print(news)\n",
    "    return(news)\n",
    "    #return(news_title)\n",
    "    #return(news_teaser)\n",
    "scrapeNewsTitle()"
   ]
  },
  {
   "cell_type": "code",
   "execution_count": null,
   "metadata": {},
   "outputs": [],
   "source": [
    "def scrapeNewsTeaser():\n",
    "    # URL of page to be scraped\n",
    "    news_teaser_url = 'https://mars.nasa.gov/news'\n",
    "    # Retrieve page with the requests module\n",
    "    news_teaser_response = requests.get(news_teaser_url)\n",
    "    \n",
    "    # Create BeautifulSoup object; parse with 'html.parser'\n",
    "    soup = BeautifulSoup(news_teaser_response.text, 'html.parser')\n",
    "    #print(soup.prettify())\n",
    "           \n",
    "    for div in soup.findAll('div', {'class': 'rollover_description_inner'}):\n",
    "        \n",
    "        teaser_base = div.get_text()\n",
    "        teaser_front = teaser_base.lstrip()\n",
    "        teaser_back = teaser_front.rstrip()\n",
    "        #print(teaser)\n",
    "        news_teaser.append(teaser_back)\n",
    "       \n",
    "    news[\"news_teaser\"] = news_teaser[0]\n",
    "    return(news)\n",
    "    \n",
    "scrapeNewsTeaser()"
   ]
  },
  {
   "cell_type": "markdown",
   "metadata": {},
   "source": [
    "##  Scrape JPL Mars Space Images"
   ]
  },
  {
   "cell_type": "code",
   "execution_count": null,
   "metadata": {},
   "outputs": [],
   "source": [
    "image_feature = []\n",
    "#image_feature = {}\n"
   ]
  },
  {
   "cell_type": "code",
   "execution_count": null,
   "metadata": {},
   "outputs": [],
   "source": [
    "def scrapeImage():\n",
    "    browser = init_browser()\n",
    "    image_url = \"https://www.jpl.nasa.gov/spaceimages/?search=&category=Mars\"\n",
    "    browser.visit(image_url)\n",
    "    \n",
    "    html = browser.html\n",
    "    soup = BeautifulSoup(html, \"html.parser\")\n",
    "    browser.click_link_by_partial_text('FULL IMAGE')\n",
    "    \n",
    "    # Retrieve all elements that contain images\n",
    "    \n",
    "   # for div in soup.findAll('div', class_=\"inner\"): \n",
    "        #images = soup.findAll('img')\n",
    "        #print(images)   \n",
    "        \n",
    "    for image in soup.findAll('img'):\n",
    "        src = image['src']\n",
    "        full_link = 'https://www.jpl.nasa.gov' + src\n",
    "        image_feature.append(full_link)\n",
    "        #print(full_link)\n",
    "        \n",
    "    news[\"image\"] = image_feature[3]\n",
    "        \n",
    "    print(news)\n",
    "    #print(image_feature)\n",
    "    return(news)  \n",
    "    #print(article)\n",
    "scrapeImage()"
   ]
  },
  {
   "cell_type": "markdown",
   "metadata": {},
   "source": [
    "##   Scrape Mars Weather"
   ]
  },
  {
   "cell_type": "code",
   "execution_count": null,
   "metadata": {},
   "outputs": [],
   "source": [
    "tweets = []"
   ]
  },
  {
   "cell_type": "code",
   "execution_count": null,
   "metadata": {},
   "outputs": [],
   "source": [
    "def scrapeWeather():\n",
    "     # URL of page to be scraped\n",
    "    weather_url = 'https://twitter.com/marswxreport?lang=en'\n",
    "    # Retrieve page with the requests module\n",
    "    weather_response = requests.get(weather_url)\n",
    "    \n",
    "    # Create BeautifulSoup object; parse with 'html.parser'\n",
    "    soup = BeautifulSoup(weather_response.text, 'html.parser')\n",
    "    #print(soup.prettify())\n",
    "    \n",
    "    for p in soup.findAll('p', class_=\"tweet-text\"):\n",
    "        tweet = p.get_text()\n",
    "        #print(tweet)\n",
    "        tweets.append(tweet)\n",
    "    \n",
    "    news[\"tweet\"] = tweets[0]\n",
    "    \n",
    "    #print(news)\n",
    "    #return(news)\n",
    "    \n",
    "scrapeWeather()"
   ]
  },
  {
   "cell_type": "markdown",
   "metadata": {},
   "source": [
    "##  Scrape Mars Facts"
   ]
  },
  {
   "cell_type": "code",
   "execution_count": null,
   "metadata": {},
   "outputs": [],
   "source": [
    "def scrapeFacts():\n",
    "     # URL of page to be scraped\n",
    "    facts_url = 'https://space-facts.com/mars/'\n",
    "    # Retrieve page with the requests module\n",
    "    facts_response = requests.get(facts_url)\n",
    "    \n",
    "    # Create BeautifulSoup object; parse with 'html.parser'\n",
    "    soup = BeautifulSoup(facts_response.text, 'html.parser')\n",
    "    #print(soup.prettify())\n",
    "    \n",
    "    table = soup.find('table', attrs={'id':'tablepress-mars'})\n",
    "    table_rows = table.find_all('tr')\n",
    "\n",
    "    res = []\n",
    "    for tr in table_rows:\n",
    "        td = tr.find_all('td')\n",
    "        row = [tr.text.strip() for tr in td if tr.text.strip()]\n",
    "        if row:\n",
    "            res.append(row)\n",
    "\n",
    "    df = pd.DataFrame(res, columns=[\"Fact\", \"Value\"])\n",
    "    #print(df)\n",
    "   # for fact in df[\"Fact\"]:\n",
    "        #print(fact)\n",
    "    \n",
    "    df[\"Fact\"] =  df[\"Fact\"].str.replace(' ', '_')\n",
    "    df['Fact'] = df['Fact'].str.rstrip(':')\n",
    "    \n",
    "    news[df[\"Fact\"][0]] = df[\"Value\"][0]\n",
    "    news[df[\"Fact\"][1]] = df[\"Value\"][1]\n",
    "    news[df[\"Fact\"][2]] = df[\"Value\"][2]\n",
    "    news[df[\"Fact\"][3]] = df[\"Value\"][3]\n",
    "    news[df[\"Fact\"][4]] = df[\"Value\"][4]\n",
    "    news[df[\"Fact\"][5]] = df[\"Value\"][5]\n",
    "    news[df[\"Fact\"][6]] = df[\"Value\"][6]\n",
    "    news[df[\"Fact\"][7]] = df[\"Value\"][7]\n",
    "    news[df[\"Fact\"][8]] = df[\"Value\"][8]\n",
    "    \n",
    "    print(news)\n",
    "    #return(new)\n",
    "   \n",
    "    \n",
    "scrapeFacts()"
   ]
  },
  {
   "cell_type": "markdown",
   "metadata": {},
   "source": [
    "##  Scrape Hemisphere Images"
   ]
  },
  {
   "cell_type": "code",
   "execution_count": null,
   "metadata": {},
   "outputs": [],
   "source": [
    "thumbs = []\n",
    "titles = []"
   ]
  },
  {
   "cell_type": "code",
   "execution_count": null,
   "metadata": {},
   "outputs": [],
   "source": [
    "def scrapeHemispheresImages():\n",
    "     # URL of page to be scraped\n",
    "    hemisphere_image_url = 'https://astrogeology.usgs.gov/search/results?q=hemisphere+enhanced&k1=target&v1=Mars'\n",
    "    # Retrieve page with the requests module\n",
    "    hemisphere_image_response = requests.get(hemisphere_image_url)\n",
    "    \n",
    "    # Create BeautifulSoup object; parse with 'html.parser'\n",
    "    soup = BeautifulSoup(hemisphere_image_response.text, 'html.parser')\n",
    "     #print(soup.prettify())\n",
    "        \n",
    "    for image in soup.findAll('img', class_=\"thumb\"):\n",
    "        src = image['src']\n",
    "        full_link = 'https://astrogeology.usgs.gov' + src\n",
    "        thumbs.append(full_link)\n",
    "    #print(thumbs)\n",
    "    #return(thumbs)\n",
    "     \n",
    "scrapeHemispheresImages()"
   ]
  },
  {
   "cell_type": "code",
   "execution_count": null,
   "metadata": {},
   "outputs": [],
   "source": [
    "def scrapeHemispheresTitles():\n",
    "     # URL of page to be scraped\n",
    "    hemisphere_title_url = 'https://astrogeology.usgs.gov/search/results?q=hemisphere+enhanced&k1=target&v1=Mars'\n",
    "    # Retrieve page with the requests module\n",
    "    hemisphere_title_response = requests.get(hemisphere_title_url)\n",
    "    \n",
    "    # Create BeautifulSoup object; parse with 'html.parser'\n",
    "    soup = BeautifulSoup(hemisphere_title_response.text, 'html.parser')\n",
    "    #print(soup.prettify())\n",
    "    \n",
    "     \n",
    "    for div in soup.findAll('div', class_=\"description\"):\n",
    "        image_titles = div.findAll(\"h3\")\n",
    "        #print(image_titles)\n",
    "        for image_title in image_titles:\n",
    "            title = image_title.get_text()\n",
    "            titles.append(title)\n",
    "    \n",
    "    \n",
    "    #print(titles)\n",
    "    #return(titles)\n",
    "    \n",
    "    \n",
    "    \n",
    "    \n",
    "scrapeHemispheresTitles()"
   ]
  },
  {
   "cell_type": "code",
   "execution_count": null,
   "metadata": {},
   "outputs": [],
   "source": [
    "hemisphere_images = pd.DataFrame({\n",
    "    'title': titles,\n",
    "    'image_url': thumbs\n",
    "})\n",
    "\n",
    "hemisphere_images[\"title\"] =  hemisphere_images[\"title\"].str.replace(' ', '_')\n",
    "\n",
    "news[hemisphere_images[\"title\"][0]] = hemisphere_images[\"image_url\"][0]\n",
    "news[hemisphere_images[\"title\"][1]] = hemisphere_images[\"image_url\"][1]\n",
    "news[hemisphere_images[\"title\"][2]] = hemisphere_images[\"image_url\"][2]\n",
    "news[hemisphere_images[\"title\"][3]] = hemisphere_images[\"image_url\"][3]\n",
    "\n",
    "print(news)"
   ]
  },
  {
   "cell_type": "code",
   "execution_count": null,
   "metadata": {},
   "outputs": [],
   "source": []
  },
  {
   "cell_type": "code",
   "execution_count": null,
   "metadata": {},
   "outputs": [],
   "source": []
  },
  {
   "cell_type": "code",
   "execution_count": null,
   "metadata": {},
   "outputs": [],
   "source": []
  },
  {
   "cell_type": "code",
   "execution_count": null,
   "metadata": {},
   "outputs": [],
   "source": []
  }
 ],
 "metadata": {
  "kernelspec": {
   "display_name": "Python 3",
   "language": "python",
   "name": "python3"
  },
  "language_info": {
   "codemirror_mode": {
    "name": "ipython",
    "version": 3
   },
   "file_extension": ".py",
   "mimetype": "text/x-python",
   "name": "python",
   "nbconvert_exporter": "python",
   "pygments_lexer": "ipython3",
   "version": "3.6.7"
  }
 },
 "nbformat": 4,
 "nbformat_minor": 2
}
