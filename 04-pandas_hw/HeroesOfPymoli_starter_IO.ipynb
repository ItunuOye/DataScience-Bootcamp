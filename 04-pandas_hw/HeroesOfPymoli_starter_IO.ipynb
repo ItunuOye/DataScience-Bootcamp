{
 "cells": [
  {
   "cell_type": "markdown",
   "metadata": {},
   "source": [
    "### Heroes Of Pymoli Data Analysis\n",
    "* Of the 1163 active players, the vast majority are male (84%). There also exists, a smaller, but notable proportion of female players (14%).\n",
    "\n",
    "* Our peak age demographic falls between 20-24 (44.8%) with secondary groups falling between 15-19 (18.60%) and 25-29 (13.4%).  \n",
    "-----"
   ]
  },
  {
   "cell_type": "markdown",
   "metadata": {},
   "source": [
    "### Note\n",
    "* Instructions have been included for each segment. You do not have to follow them exactly, but they are included to help you think through the steps."
   ]
  },
  {
   "cell_type": "code",
   "execution_count": 1,
   "metadata": {},
   "outputs": [
    {
     "data": {
      "text/html": [
       "<div>\n",
       "<style scoped>\n",
       "    .dataframe tbody tr th:only-of-type {\n",
       "        vertical-align: middle;\n",
       "    }\n",
       "\n",
       "    .dataframe tbody tr th {\n",
       "        vertical-align: top;\n",
       "    }\n",
       "\n",
       "    .dataframe thead th {\n",
       "        text-align: right;\n",
       "    }\n",
       "</style>\n",
       "<table border=\"1\" class=\"dataframe\">\n",
       "  <thead>\n",
       "    <tr style=\"text-align: right;\">\n",
       "      <th></th>\n",
       "      <th>Purchase ID</th>\n",
       "      <th>SN</th>\n",
       "      <th>Age</th>\n",
       "      <th>Gender</th>\n",
       "      <th>Item ID</th>\n",
       "      <th>Item Name</th>\n",
       "      <th>Price</th>\n",
       "    </tr>\n",
       "  </thead>\n",
       "  <tbody>\n",
       "    <tr>\n",
       "      <th>0</th>\n",
       "      <td>0</td>\n",
       "      <td>Lisim78</td>\n",
       "      <td>20</td>\n",
       "      <td>Male</td>\n",
       "      <td>108</td>\n",
       "      <td>Extraction, Quickblade Of Trembling Hands</td>\n",
       "      <td>3.53</td>\n",
       "    </tr>\n",
       "    <tr>\n",
       "      <th>1</th>\n",
       "      <td>1</td>\n",
       "      <td>Lisovynya38</td>\n",
       "      <td>40</td>\n",
       "      <td>Male</td>\n",
       "      <td>143</td>\n",
       "      <td>Frenzied Scimitar</td>\n",
       "      <td>1.56</td>\n",
       "    </tr>\n",
       "    <tr>\n",
       "      <th>2</th>\n",
       "      <td>2</td>\n",
       "      <td>Ithergue48</td>\n",
       "      <td>24</td>\n",
       "      <td>Male</td>\n",
       "      <td>92</td>\n",
       "      <td>Final Critic</td>\n",
       "      <td>4.88</td>\n",
       "    </tr>\n",
       "    <tr>\n",
       "      <th>3</th>\n",
       "      <td>3</td>\n",
       "      <td>Chamassasya86</td>\n",
       "      <td>24</td>\n",
       "      <td>Male</td>\n",
       "      <td>100</td>\n",
       "      <td>Blindscythe</td>\n",
       "      <td>3.27</td>\n",
       "    </tr>\n",
       "    <tr>\n",
       "      <th>4</th>\n",
       "      <td>4</td>\n",
       "      <td>Iskosia90</td>\n",
       "      <td>23</td>\n",
       "      <td>Male</td>\n",
       "      <td>131</td>\n",
       "      <td>Fury</td>\n",
       "      <td>1.44</td>\n",
       "    </tr>\n",
       "  </tbody>\n",
       "</table>\n",
       "</div>"
      ],
      "text/plain": [
       "   Purchase ID             SN  Age Gender  Item ID  \\\n",
       "0            0        Lisim78   20   Male      108   \n",
       "1            1    Lisovynya38   40   Male      143   \n",
       "2            2     Ithergue48   24   Male       92   \n",
       "3            3  Chamassasya86   24   Male      100   \n",
       "4            4      Iskosia90   23   Male      131   \n",
       "\n",
       "                                   Item Name  Price  \n",
       "0  Extraction, Quickblade Of Trembling Hands   3.53  \n",
       "1                          Frenzied Scimitar   1.56  \n",
       "2                               Final Critic   4.88  \n",
       "3                                Blindscythe   3.27  \n",
       "4                                       Fury   1.44  "
      ]
     },
     "execution_count": 1,
     "metadata": {},
     "output_type": "execute_result"
    }
   ],
   "source": [
    "# Dependencies and Setup\n",
    "import pandas as pd\n",
    "import numpy as np\n",
    "\n",
    "# File to Load \n",
    "file_to_load = \"../04-pandas_hw/purchase_data.csv\"\n",
    "\n",
    "# Read Purchasing File and store into Pandas data frame\n",
    "purchase_data = pd.read_csv(file_to_load)\n",
    "purchase_data.head()\n"
   ]
  },
  {
   "cell_type": "code",
   "execution_count": 2,
   "metadata": {},
   "outputs": [
    {
     "data": {
      "text/plain": [
       "780"
      ]
     },
     "execution_count": 2,
     "metadata": {},
     "output_type": "execute_result"
    }
   ],
   "source": [
    "len(purchase_data)"
   ]
  },
  {
   "cell_type": "code",
   "execution_count": 3,
   "metadata": {},
   "outputs": [
    {
     "data": {
      "text/plain": [
       "Purchase ID    780\n",
       "SN             780\n",
       "Age            780\n",
       "Gender         780\n",
       "Item ID        780\n",
       "Item Name      780\n",
       "Price          780\n",
       "dtype: int64"
      ]
     },
     "execution_count": 3,
     "metadata": {},
     "output_type": "execute_result"
    }
   ],
   "source": [
    "purchase_data.count()"
   ]
  },
  {
   "cell_type": "markdown",
   "metadata": {},
   "source": [
    "## Player Count"
   ]
  },
  {
   "cell_type": "markdown",
   "metadata": {},
   "source": [
    "* Display the total number of players\n"
   ]
  },
  {
   "cell_type": "code",
   "execution_count": 4,
   "metadata": {},
   "outputs": [
    {
     "data": {
      "text/html": [
       "<div>\n",
       "<style scoped>\n",
       "    .dataframe tbody tr th:only-of-type {\n",
       "        vertical-align: middle;\n",
       "    }\n",
       "\n",
       "    .dataframe tbody tr th {\n",
       "        vertical-align: top;\n",
       "    }\n",
       "\n",
       "    .dataframe thead th {\n",
       "        text-align: right;\n",
       "    }\n",
       "</style>\n",
       "<table border=\"1\" class=\"dataframe\">\n",
       "  <thead>\n",
       "    <tr style=\"text-align: right;\">\n",
       "      <th></th>\n",
       "      <th>Total Players</th>\n",
       "    </tr>\n",
       "  </thead>\n",
       "  <tbody>\n",
       "    <tr>\n",
       "      <th>0</th>\n",
       "      <td>576</td>\n",
       "    </tr>\n",
       "  </tbody>\n",
       "</table>\n",
       "</div>"
      ],
      "text/plain": [
       "   Total Players\n",
       "0            576"
      ]
     },
     "execution_count": 4,
     "metadata": {},
     "output_type": "execute_result"
    }
   ],
   "source": [
    "No_of_players = purchase_data['SN'].nunique()\n",
    "Total_players = pd.DataFrame({'Total Players':[No_of_players]})\n",
    "Total_players\n"
   ]
  },
  {
   "cell_type": "markdown",
   "metadata": {},
   "source": [
    "## Purchasing Analysis (Total)"
   ]
  },
  {
   "cell_type": "markdown",
   "metadata": {},
   "source": [
    "* Run basic calculations to obtain number of unique items, average price, etc.\n",
    "\n",
    "\n",
    "* Create a summary data frame to hold the results\n",
    "\n",
    "\n",
    "* Optional: give the displayed data cleaner formatting\n",
    "\n",
    "\n",
    "* Display the summary data frame\n"
   ]
  },
  {
   "cell_type": "code",
   "execution_count": 5,
   "metadata": {},
   "outputs": [
    {
     "data": {
      "text/html": [
       "<div>\n",
       "<style scoped>\n",
       "    .dataframe tbody tr th:only-of-type {\n",
       "        vertical-align: middle;\n",
       "    }\n",
       "\n",
       "    .dataframe tbody tr th {\n",
       "        vertical-align: top;\n",
       "    }\n",
       "\n",
       "    .dataframe thead th {\n",
       "        text-align: right;\n",
       "    }\n",
       "</style>\n",
       "<table border=\"1\" class=\"dataframe\">\n",
       "  <thead>\n",
       "    <tr style=\"text-align: right;\">\n",
       "      <th></th>\n",
       "      <th>Number of Unique Items</th>\n",
       "      <th>Average Price</th>\n",
       "      <th>Number of Purchases</th>\n",
       "      <th>Total Revenue</th>\n",
       "    </tr>\n",
       "  </thead>\n",
       "  <tbody>\n",
       "    <tr>\n",
       "      <th>0</th>\n",
       "      <td>183</td>\n",
       "      <td>3.050987</td>\n",
       "      <td>780</td>\n",
       "      <td>2379.77</td>\n",
       "    </tr>\n",
       "  </tbody>\n",
       "</table>\n",
       "</div>"
      ],
      "text/plain": [
       "   Number of Unique Items  Average Price  Number of Purchases  Total Revenue\n",
       "0                     183       3.050987                  780        2379.77"
      ]
     },
     "execution_count": 5,
     "metadata": {},
     "output_type": "execute_result"
    }
   ],
   "source": [
    "\n",
    "unique_items = purchase_data['Item ID'].nunique()\n",
    "average_price = purchase_data['Price'].mean()\n",
    "count_purchases = purchase_data['Item ID'].count()\n",
    "total_revenue = purchase_data['Price'].sum()\n",
    "\n",
    "summary = pd.DataFrame(\n",
    "    {'Number of Unique Items':[unique_items], \n",
    "     'Average Price': [average_price], \n",
    "     'Number of Purchases': [count_purchases], \n",
    "     'Total Revenue': [total_revenue]})\n",
    "\n",
    "#pd.options.display.float_format = '${:, .2f}'.format\n",
    "summary\n"
   ]
  },
  {
   "cell_type": "markdown",
   "metadata": {},
   "source": [
    "## Gender Demographics"
   ]
  },
  {
   "cell_type": "markdown",
   "metadata": {},
   "source": [
    "* Percentage and Count of Male Players\n",
    "\n",
    "\n",
    "* Percentage and Count of Female Players\n",
    "\n",
    "\n",
    "* Percentage and Count of Other / Non-Disclosed\n",
    "\n",
    "\n"
   ]
  },
  {
   "cell_type": "code",
   "execution_count": 6,
   "metadata": {},
   "outputs": [],
   "source": [
    "#Create variables for each gender and perform calculations\n",
    "\n",
    "unique_players = purchase_data['SN'].nunique()\n",
    "male = purchase_data[purchase_data[\"Gender\"] ==\"Male\"][\"SN\"].nunique()\n",
    "female = purchase_data[purchase_data[\"Gender\"] ==\"Female\"][\"SN\"].nunique()\n",
    "other = purchase_data[purchase_data[\"Gender\"] ==\"Other / Non-Disclosed\"][\"SN\"].nunique()\n",
    "male_percentage = ((male/unique_players)*100)\n",
    "female_percentage = ((female/unique_players)*100)\n",
    "other_percentage = ((other/unique_players)*100)\n"
   ]
  },
  {
   "cell_type": "code",
   "execution_count": 7,
   "metadata": {},
   "outputs": [],
   "source": [
    "#Set up data frame and column names\n",
    "\n",
    "gender_demographics = pd.DataFrame(\n",
    "    {\"Gender\":[\"Male\",\"Female\",\"Other / Non-Disclosed\"],\"Total Count\":[male,female,other],\n",
    "     \"Percentage of Players\":[male_percentage,female_percentage,other_percentage]})\n"
   ]
  },
  {
   "cell_type": "code",
   "execution_count": 8,
   "metadata": {},
   "outputs": [
    {
     "data": {
      "text/html": [
       "<div>\n",
       "<style scoped>\n",
       "    .dataframe tbody tr th:only-of-type {\n",
       "        vertical-align: middle;\n",
       "    }\n",
       "\n",
       "    .dataframe tbody tr th {\n",
       "        vertical-align: top;\n",
       "    }\n",
       "\n",
       "    .dataframe thead th {\n",
       "        text-align: right;\n",
       "    }\n",
       "</style>\n",
       "<table border=\"1\" class=\"dataframe\">\n",
       "  <thead>\n",
       "    <tr style=\"text-align: right;\">\n",
       "      <th></th>\n",
       "      <th>Total Count</th>\n",
       "      <th>Percentage of Players</th>\n",
       "    </tr>\n",
       "    <tr>\n",
       "      <th>Gender</th>\n",
       "      <th></th>\n",
       "      <th></th>\n",
       "    </tr>\n",
       "  </thead>\n",
       "  <tbody>\n",
       "    <tr>\n",
       "      <th>Male</th>\n",
       "      <td>484</td>\n",
       "      <td>84.03%</td>\n",
       "    </tr>\n",
       "    <tr>\n",
       "      <th>Female</th>\n",
       "      <td>81</td>\n",
       "      <td>14.06%</td>\n",
       "    </tr>\n",
       "    <tr>\n",
       "      <th>Other / Non-Disclosed</th>\n",
       "      <td>11</td>\n",
       "      <td>1.91%</td>\n",
       "    </tr>\n",
       "  </tbody>\n",
       "</table>\n",
       "</div>"
      ],
      "text/plain": [
       "                       Total Count  Percentage of Players\n",
       "Gender                                                   \n",
       "Male                           484                 84.03%\n",
       "Female                          81                 14.06%\n",
       "Other / Non-Disclosed           11                  1.91%"
      ]
     },
     "execution_count": 8,
     "metadata": {},
     "output_type": "execute_result"
    }
   ],
   "source": [
    "#Formatting and displaying of data frame. Setting up the index by Gender\n",
    "\n",
    "pd.options.display.float_format = '{:,.2f}%'.format \n",
    "gender_demographics=gender_demographics.set_index(\"Gender\") \n",
    "gender_demographics\n"
   ]
  },
  {
   "cell_type": "markdown",
   "metadata": {},
   "source": [
    "\n",
    "## Purchasing Analysis (Gender)"
   ]
  },
  {
   "cell_type": "markdown",
   "metadata": {},
   "source": [
    "* Run basic calculations to obtain purchase count, avg. purchase price, avg. purchase total per person etc. by gender\n",
    "\n",
    "\n",
    "\n",
    "\n",
    "* Create a summary data frame to hold the results\n",
    "\n",
    "\n",
    "* Optional: give the displayed data cleaner formatting\n",
    "\n",
    "\n",
    "* Display the summary data frame"
   ]
  },
  {
   "cell_type": "code",
   "execution_count": 9,
   "metadata": {},
   "outputs": [],
   "source": [
    "#Calculate values by setting up seperate variables\n",
    "\n",
    "male_purchase_count = purchase_data[purchase_data[\"Gender\"] ==\"Male\"][\"Price\"].count()\n",
    "female_purchase_count = purchase_data[purchase_data[\"Gender\"] ==\"Female\"][\"Price\"].count()\n",
    "other_purchase_count = purchase_data[purchase_data[\"Gender\"] ==\"Other / Non-Disclosed\"][\"Price\"].count()\n",
    "male_purchase_avg = purchase_data[purchase_data[\"Gender\"] ==\"Male\"][\"Price\"].mean()\n",
    "female_purchase_avg = purchase_data[purchase_data[\"Gender\"] ==\"Female\"][\"Price\"].mean()\n",
    "other_purchase_avg = purchase_data[purchase_data[\"Gender\"] ==\"Other / Non-Disclosed\"][\"Price\"].mean()\n",
    "male_purchase_total = purchase_data[purchase_data[\"Gender\"] ==\"Male\"][\"Price\"].sum()\n",
    "female_purchase_total = purchase_data[purchase_data[\"Gender\"] ==\"Female\"][\"Price\"].sum()\n",
    "other_purchase_total = purchase_data[purchase_data[\"Gender\"] ==\"Other / Non-Disclosed\"][\"Price\"].sum()\n",
    "male_purchase_per = male_purchase_total/male\n",
    "female_purchase_per = female_purchase_total/female\n",
    "other_purchase_per = other_purchase_total/other\n"
   ]
  },
  {
   "cell_type": "code",
   "execution_count": 10,
   "metadata": {},
   "outputs": [],
   "source": [
    "#Set up data frame with column names and the values from above\n",
    "\n",
    "purchase_analysis_gender = pd.DataFrame(\n",
    "    {\"Gender\":[\"Male\",\"Female\",\"Other / Non-Disclosed\"],\"Purchase Count\":[male_purchase_count,female_purchase_count\n",
    ",other_purchase_count],\n",
    "     \"Average Purchase Price\":[male_purchase_avg,female_purchase_avg,other_purchase_avg],\n",
    "     \"Total Purchase Value\":[male_purchase_total,female_purchase_total,other_purchase_total],\n",
    "     \"Avg Total Purchase per Person\":[male_purchase_per,female_purchase_per,other_purchase_per]})\n"
   ]
  },
  {
   "cell_type": "code",
   "execution_count": 11,
   "metadata": {},
   "outputs": [
    {
     "data": {
      "text/html": [
       "<div>\n",
       "<style scoped>\n",
       "    .dataframe tbody tr th:only-of-type {\n",
       "        vertical-align: middle;\n",
       "    }\n",
       "\n",
       "    .dataframe tbody tr th {\n",
       "        vertical-align: top;\n",
       "    }\n",
       "\n",
       "    .dataframe thead th {\n",
       "        text-align: right;\n",
       "    }\n",
       "</style>\n",
       "<table border=\"1\" class=\"dataframe\">\n",
       "  <thead>\n",
       "    <tr style=\"text-align: right;\">\n",
       "      <th></th>\n",
       "      <th>Purchase Count</th>\n",
       "      <th>Average Purchase Price</th>\n",
       "      <th>Total Purchase Value</th>\n",
       "      <th>Avg Total Purchase per Person</th>\n",
       "    </tr>\n",
       "    <tr>\n",
       "      <th>Gender</th>\n",
       "      <th></th>\n",
       "      <th></th>\n",
       "      <th></th>\n",
       "      <th></th>\n",
       "    </tr>\n",
       "  </thead>\n",
       "  <tbody>\n",
       "    <tr>\n",
       "      <th>Female</th>\n",
       "      <td>113</td>\n",
       "      <td>$3.20</td>\n",
       "      <td>$361.94</td>\n",
       "      <td>$4.47</td>\n",
       "    </tr>\n",
       "    <tr>\n",
       "      <th>Male</th>\n",
       "      <td>652</td>\n",
       "      <td>$3.02</td>\n",
       "      <td>$1,967.64</td>\n",
       "      <td>$4.07</td>\n",
       "    </tr>\n",
       "    <tr>\n",
       "      <th>Other / Non-Disclosed</th>\n",
       "      <td>15</td>\n",
       "      <td>$3.35</td>\n",
       "      <td>$50.19</td>\n",
       "      <td>$4.56</td>\n",
       "    </tr>\n",
       "  </tbody>\n",
       "</table>\n",
       "</div>"
      ],
      "text/plain": [
       "                       Purchase Count  Average Purchase Price  \\\n",
       "Gender                                                          \n",
       "Female                            113                   $3.20   \n",
       "Male                              652                   $3.02   \n",
       "Other / Non-Disclosed              15                   $3.35   \n",
       "\n",
       "                       Total Purchase Value  Avg Total Purchase per Person  \n",
       "Gender                                                                      \n",
       "Female                              $361.94                          $4.47  \n",
       "Male                              $1,967.64                          $4.07  \n",
       "Other / Non-Disclosed                $50.19                          $4.56  "
      ]
     },
     "execution_count": 11,
     "metadata": {},
     "output_type": "execute_result"
    }
   ],
   "source": [
    "#Formatting and displaying of the data frame. Setting up the index by Gender and sorting the Gender column\n",
    "\n",
    "pd.options.display.float_format = '${:,.2f}'.format \n",
    "purchase_analysis_gender=purchase_analysis_gender.set_index(\"Gender\") \n",
    "purchase_analysis_gender=purchase_analysis_gender.sort_values(\"Gender\") \n",
    "purchase_analysis_gender\n"
   ]
  },
  {
   "cell_type": "markdown",
   "metadata": {},
   "source": [
    "## Age Demographics"
   ]
  },
  {
   "cell_type": "markdown",
   "metadata": {},
   "source": [
    "* Establish bins for ages\n",
    "\n",
    "\n",
    "* Categorize the existing players using the age bins. Hint: use pd.cut()\n",
    "\n",
    "\n",
    "* Calculate the numbers and percentages by age group\n",
    "\n",
    "\n",
    "* Create a summary data frame to hold the results\n",
    "\n",
    "\n",
    "* Optional: round the percentage column to two decimal points\n",
    "\n",
    "\n",
    "* Display Age Demographics Table\n"
   ]
  },
  {
   "cell_type": "code",
   "execution_count": 12,
   "metadata": {},
   "outputs": [],
   "source": [
    "#Set bins for the age groups\n",
    "\n",
    "bins = [0,9.99,14.99,19.99,24.99,29.99,34.99,39.99,100]\n",
    "group_labels = [\"<10\",\"10-14\",\"15-19\",\"20-24\",\"25-29\",\"30-34\",\"35-39\",\"40+\"]\n",
    "purchase_data[\"Age Group\"]=pd.cut(purchase_data[\"Age\"],bins, labels=group_labels)\n"
   ]
  },
  {
   "cell_type": "code",
   "execution_count": 13,
   "metadata": {},
   "outputs": [],
   "source": [
    "#Set the variables for each age group by pulling the total unique values using the SN\n",
    "\n",
    "unique_players = purchase_data['SN'].nunique()\n",
    "ten = purchase_data[purchase_data[\"Age Group\"] ==\"<10\"][\"SN\"].nunique()\n",
    "low_teens= purchase_data[purchase_data[\"Age Group\"] ==\"10-14\"][\"SN\"].nunique()\n",
    "high_teens= purchase_data[purchase_data[\"Age Group\"] ==\"15-19\"][\"SN\"].nunique()\n",
    "low_twenty= purchase_data[purchase_data[\"Age Group\"] ==\"20-24\"][\"SN\"].nunique()\n",
    "high_twenty= purchase_data[purchase_data[\"Age Group\"] ==\"25-29\"][\"SN\"].nunique()\n",
    "low_thirty= purchase_data[purchase_data[\"Age Group\"] ==\"30-34\"][\"SN\"].nunique()\n",
    "high_thirty= purchase_data[purchase_data[\"Age Group\"] ==\"35-39\"][\"SN\"].nunique()\n",
    "forty= purchase_data[purchase_data[\"Age Group\"] ==\"40+\"][\"SN\"].nunique()\n"
   ]
  },
  {
   "cell_type": "code",
   "execution_count": 14,
   "metadata": {},
   "outputs": [],
   "source": [
    "#Calculate the percentage of total count by age group\n",
    "\n",
    "ten_percent = ten/unique_players*100\n",
    "low_teens_percent= low_teens/unique_players*100\n",
    "high_teens_percent= high_teens/unique_players*100\n",
    "low_twenty_percent= low_twenty/unique_players*100\n",
    "high_twenty_percent= high_twenty/unique_players*100\n",
    "low_thirty_percent= low_thirty/unique_players*100\n",
    "high_thirty_percent= high_thirty/unique_players*100\n",
    "forty_percent= forty/unique_players*100\n"
   ]
  },
  {
   "cell_type": "code",
   "execution_count": 15,
   "metadata": {},
   "outputs": [],
   "source": [
    "#Set up Table\n",
    "\n",
    "age_demographics=pd.DataFrame(\n",
    "    {\"Age Group\":[\"<10\",\"10-14\",\"15-19\",\"20-24\",\"25-29\",\"30-34\",\"35-39\",\"40+\"],\n",
    "     \"Total Count\":[ten,low_teens,high_teens,low_twenty,high_twenty, low_thirty,high_thirty,forty],\n",
    "     \"Percentage of Players\":[ten_percent,low_teens_percent,high_teens_percent,low_twenty_percent,\n",
    "                              high_twenty_percent,low_thirty_percent,high_thirty_percent,forty_percent]})\n"
   ]
  },
  {
   "cell_type": "code",
   "execution_count": 16,
   "metadata": {},
   "outputs": [
    {
     "data": {
      "text/html": [
       "<div>\n",
       "<style scoped>\n",
       "    .dataframe tbody tr th:only-of-type {\n",
       "        vertical-align: middle;\n",
       "    }\n",
       "\n",
       "    .dataframe tbody tr th {\n",
       "        vertical-align: top;\n",
       "    }\n",
       "\n",
       "    .dataframe thead th {\n",
       "        text-align: right;\n",
       "    }\n",
       "</style>\n",
       "<table border=\"1\" class=\"dataframe\">\n",
       "  <thead>\n",
       "    <tr style=\"text-align: right;\">\n",
       "      <th></th>\n",
       "      <th>Total Count</th>\n",
       "      <th>Percentage of Players</th>\n",
       "    </tr>\n",
       "    <tr>\n",
       "      <th>Age Group</th>\n",
       "      <th></th>\n",
       "      <th></th>\n",
       "    </tr>\n",
       "  </thead>\n",
       "  <tbody>\n",
       "    <tr>\n",
       "      <th>&lt;10</th>\n",
       "      <td>17</td>\n",
       "      <td>2.95%</td>\n",
       "    </tr>\n",
       "    <tr>\n",
       "      <th>10-14</th>\n",
       "      <td>22</td>\n",
       "      <td>3.82%</td>\n",
       "    </tr>\n",
       "    <tr>\n",
       "      <th>15-19</th>\n",
       "      <td>107</td>\n",
       "      <td>18.58%</td>\n",
       "    </tr>\n",
       "    <tr>\n",
       "      <th>20-24</th>\n",
       "      <td>258</td>\n",
       "      <td>44.79%</td>\n",
       "    </tr>\n",
       "    <tr>\n",
       "      <th>25-29</th>\n",
       "      <td>77</td>\n",
       "      <td>13.37%</td>\n",
       "    </tr>\n",
       "    <tr>\n",
       "      <th>30-34</th>\n",
       "      <td>52</td>\n",
       "      <td>9.03%</td>\n",
       "    </tr>\n",
       "    <tr>\n",
       "      <th>35-39</th>\n",
       "      <td>31</td>\n",
       "      <td>5.38%</td>\n",
       "    </tr>\n",
       "    <tr>\n",
       "      <th>40+</th>\n",
       "      <td>12</td>\n",
       "      <td>2.08%</td>\n",
       "    </tr>\n",
       "  </tbody>\n",
       "</table>\n",
       "</div>"
      ],
      "text/plain": [
       "           Total Count  Percentage of Players\n",
       "Age Group                                    \n",
       "<10                 17                  2.95%\n",
       "10-14               22                  3.82%\n",
       "15-19              107                 18.58%\n",
       "20-24              258                 44.79%\n",
       "25-29               77                 13.37%\n",
       "30-34               52                  9.03%\n",
       "35-39               31                  5.38%\n",
       "40+                 12                  2.08%"
      ]
     },
     "execution_count": 16,
     "metadata": {},
     "output_type": "execute_result"
    }
   ],
   "source": [
    "#Formatting and display\n",
    "\n",
    "pd.options.display.float_format = '{:,.2f}%'.format \n",
    "age_demographics=age_demographics.set_index(\"Age Group\") \n",
    "age_demographics\n"
   ]
  },
  {
   "cell_type": "markdown",
   "metadata": {},
   "source": [
    "## Purchasing Analysis (Age)"
   ]
  },
  {
   "cell_type": "markdown",
   "metadata": {},
   "source": [
    "* Bin the purchase_data data frame by age\n",
    "\n",
    "\n",
    "* Run basic calculations to obtain purchase count, avg. purchase price, avg. purchase total per person etc. in the table below\n",
    "\n",
    "\n",
    "* Create a summary data frame to hold the results\n",
    "\n",
    "\n",
    "* Optional: give the displayed data cleaner formatting\n",
    "\n",
    "\n",
    "* Display the summary data frame"
   ]
  },
  {
   "cell_type": "code",
   "execution_count": 17,
   "metadata": {},
   "outputs": [],
   "source": [
    "#Set bins for the age groups\n",
    "\n",
    "bins = [0,9.99,14.99,19.99,24.99,29.99,34.99,39.99,100]\n",
    "group_labels = [\"<10\",\"10-14\",\"15-19\",\"20-24\",\"25-29\",\"30-34\",\"35-39\",\"40+\"]\n",
    "purchase_data[\"Age Group\"]=pd.cut(purchase_data[\"Age\"],bins, labels=group_labels)\n",
    "\n"
   ]
  },
  {
   "cell_type": "code",
   "execution_count": 18,
   "metadata": {},
   "outputs": [],
   "source": [
    "#Calculate values by setting up seperate variables\n",
    "\n",
    "ten_purchase_count = purchase_data[purchase_data[\"Age Group\"]==\"<10\"][\"Price\"].count()\n",
    "low_teens_purchase_count = purchase_data[purchase_data[\"Age Group\"]==\"10-14\"][\"Price\"].count()\n",
    "high_teens_purchase_count = purchase_data[purchase_data[\"Age Group\"]==\"15-19\"][\"Price\"].count()\n",
    "low_twenty_purchase_count = purchase_data[purchase_data[\"Age Group\"]==\"20-24\"][\"Price\"].count()\n",
    "high_twenty_purchase_count = purchase_data[purchase_data[\"Age Group\"]==\"25-29\"][\"Price\"].count()\n",
    "low_thirty_purchase_count = purchase_data[purchase_data[\"Age Group\"]==\"30-34\"][\"Price\"].count()\n",
    "high_thirty_purchase_count = purchase_data[purchase_data[\"Age Group\"]==\"35-39\"][\"Price\"].count()\n",
    "forty_purchase_count = purchase_data[purchase_data[\"Age Group\"]==\"40+\"][\"Price\"].count()"
   ]
  },
  {
   "cell_type": "code",
   "execution_count": 19,
   "metadata": {},
   "outputs": [],
   "source": [
    "ten_purchase_avg = purchase_data[purchase_data[\"Age Group\"]==\"<10\"][\"Price\"].mean()\n",
    "low_teens_purchase_avg = purchase_data[purchase_data[\"Age Group\"]==\"10-14\"][\"Price\"].mean()\n",
    "high_teens_purchase_avg = purchase_data[purchase_data[\"Age Group\"]==\"15-19\"][\"Price\"].mean()\n",
    "low_twenty_purchase_avg = purchase_data[purchase_data[\"Age Group\"]==\"20-24\"][\"Price\"].mean()\n",
    "high_twenty_purchase_avg = purchase_data[purchase_data[\"Age Group\"]==\"25-29\"][\"Price\"].mean()\n",
    "low_thirty_purchase_avg = purchase_data[purchase_data[\"Age Group\"]==\"30-34\"][\"Price\"].mean()\n",
    "high_thirty_purchase_avg = purchase_data[purchase_data[\"Age Group\"]==\"35-39\"][\"Price\"].mean()\n",
    "forty_purchase_avg = purchase_data[purchase_data[\"Age Group\"]==\"40+\"][\"Price\"].mean()"
   ]
  },
  {
   "cell_type": "code",
   "execution_count": 20,
   "metadata": {},
   "outputs": [],
   "source": [
    "ten_purchase_sum = purchase_data[purchase_data[\"Age Group\"]==\"<10\"][\"Price\"].sum()\n",
    "low_teens_purchase_sum = purchase_data[purchase_data[\"Age Group\"]==\"10-14\"][\"Price\"].sum()\n",
    "high_teens_purchase_sum = purchase_data[purchase_data[\"Age Group\"]==\"15-19\"][\"Price\"].sum()\n",
    "low_twenty_purchase_sum = purchase_data[purchase_data[\"Age Group\"]==\"20-24\"][\"Price\"].sum()\n",
    "high_twenty_purchase_sum = purchase_data[purchase_data[\"Age Group\"]==\"25-29\"][\"Price\"].sum()\n",
    "low_thirty_purchase_sum = purchase_data[purchase_data[\"Age Group\"]==\"30-34\"][\"Price\"].sum()\n",
    "high_thirty_purchase_sum = purchase_data[purchase_data[\"Age Group\"]==\"35-39\"][\"Price\"].sum()\n",
    "forty_purchase_sum = purchase_data[purchase_data[\"Age Group\"]==\"40+\"][\"Price\"].sum()"
   ]
  },
  {
   "cell_type": "code",
   "execution_count": 21,
   "metadata": {},
   "outputs": [],
   "source": [
    "ten_purchase_avg_person = ten_purchase_sum/ten\n",
    "low_teens_purchase_avg_person = low_teens_purchase_sum/low_teens\n",
    "high_teens_purchase_avg_person = high_teens_purchase_sum/high_teens\n",
    "low_twenty_purchase_avg_person = low_twenty_purchase_sum/low_twenty\n",
    "high_twenty_purchase_avg_person = high_twenty_purchase_sum/high_twenty\n",
    "low_thirty_purchase_avg_person = low_thirty_purchase_sum/low_thirty\n",
    "high_thirty_purchase_avg_person = high_thirty_purchase_sum/high_thirty\n",
    "forty_purchase_avg_person = forty_purchase_sum/forty\n"
   ]
  },
  {
   "cell_type": "code",
   "execution_count": 22,
   "metadata": {},
   "outputs": [],
   "source": [
    "#Set up Table\n",
    "\n",
    "purchase_analysis_age=pd.DataFrame(\n",
    "    {\"Age Group\":[\"<10\",\"10-14\",\"15-19\",\"20-24\",\"25-29\",\"30-34\",\"35-39\",\"40+\"],\n",
    "     \"Purchase Count\":[ten_purchase_count,low_teens_purchase_count,high_teens_purchase_count,low_twenty_purchase_count,\n",
    "                       high_twenty_purchase_count,low_thirty_purchase_count,high_thirty_purchase_count,forty_purchase_count,\n",
    "],\n",
    "     \"Average Purchase Price\":[ten_purchase_avg,low_teens_purchase_avg,high_teens_purchase_avg,low_twenty_purchase_avg,\n",
    "                               high_twenty_purchase_avg,low_thirty_purchase_avg,high_thirty_purchase_avg,forty_purchase_avg,\n",
    "],  \"Total Purchase Value\":[ten_purchase_sum,low_teens_purchase_sum,high_teens_purchase_sum,low_twenty_purchase_sum,\n",
    "                            high_twenty_purchase_sum,low_thirty_purchase_sum,high_thirty_purchase_sum,forty_purchase_sum,\n",
    "], \"Avg Total Purchase Per Person\":[ten_purchase_avg_person,low_teens_purchase_avg_person,\n",
    "                                    high_teens_purchase_avg_person,low_twenty_purchase_avg_person,high_twenty_purchase_avg_person,low_thirty_purchase_avg_person,\n",
    "                                    high_thirty_purchase_avg_person,forty_purchase_avg_person,\n",
    "]})\n",
    "\n"
   ]
  },
  {
   "cell_type": "code",
   "execution_count": 23,
   "metadata": {},
   "outputs": [
    {
     "data": {
      "text/html": [
       "<div>\n",
       "<style scoped>\n",
       "    .dataframe tbody tr th:only-of-type {\n",
       "        vertical-align: middle;\n",
       "    }\n",
       "\n",
       "    .dataframe tbody tr th {\n",
       "        vertical-align: top;\n",
       "    }\n",
       "\n",
       "    .dataframe thead th {\n",
       "        text-align: right;\n",
       "    }\n",
       "</style>\n",
       "<table border=\"1\" class=\"dataframe\">\n",
       "  <thead>\n",
       "    <tr style=\"text-align: right;\">\n",
       "      <th></th>\n",
       "      <th>Purchase Count</th>\n",
       "      <th>Average Purchase Price</th>\n",
       "      <th>Total Purchase Value</th>\n",
       "      <th>Avg Total Purchase Per Person</th>\n",
       "    </tr>\n",
       "    <tr>\n",
       "      <th>Age Group</th>\n",
       "      <th></th>\n",
       "      <th></th>\n",
       "      <th></th>\n",
       "      <th></th>\n",
       "    </tr>\n",
       "  </thead>\n",
       "  <tbody>\n",
       "    <tr>\n",
       "      <th>&lt;10</th>\n",
       "      <td>23</td>\n",
       "      <td>$3.35</td>\n",
       "      <td>$77.13</td>\n",
       "      <td>$4.54</td>\n",
       "    </tr>\n",
       "    <tr>\n",
       "      <th>10-14</th>\n",
       "      <td>28</td>\n",
       "      <td>$2.96</td>\n",
       "      <td>$82.78</td>\n",
       "      <td>$3.76</td>\n",
       "    </tr>\n",
       "    <tr>\n",
       "      <th>15-19</th>\n",
       "      <td>136</td>\n",
       "      <td>$3.04</td>\n",
       "      <td>$412.89</td>\n",
       "      <td>$3.86</td>\n",
       "    </tr>\n",
       "    <tr>\n",
       "      <th>20-24</th>\n",
       "      <td>365</td>\n",
       "      <td>$3.05</td>\n",
       "      <td>$1,114.06</td>\n",
       "      <td>$4.32</td>\n",
       "    </tr>\n",
       "    <tr>\n",
       "      <th>25-29</th>\n",
       "      <td>101</td>\n",
       "      <td>$2.90</td>\n",
       "      <td>$293.00</td>\n",
       "      <td>$3.81</td>\n",
       "    </tr>\n",
       "    <tr>\n",
       "      <th>30-34</th>\n",
       "      <td>73</td>\n",
       "      <td>$2.93</td>\n",
       "      <td>$214.00</td>\n",
       "      <td>$4.12</td>\n",
       "    </tr>\n",
       "    <tr>\n",
       "      <th>35-39</th>\n",
       "      <td>41</td>\n",
       "      <td>$3.60</td>\n",
       "      <td>$147.67</td>\n",
       "      <td>$4.76</td>\n",
       "    </tr>\n",
       "    <tr>\n",
       "      <th>40+</th>\n",
       "      <td>13</td>\n",
       "      <td>$2.94</td>\n",
       "      <td>$38.24</td>\n",
       "      <td>$3.19</td>\n",
       "    </tr>\n",
       "  </tbody>\n",
       "</table>\n",
       "</div>"
      ],
      "text/plain": [
       "           Purchase Count  Average Purchase Price  Total Purchase Value  \\\n",
       "Age Group                                                                 \n",
       "<10                    23                   $3.35                $77.13   \n",
       "10-14                  28                   $2.96                $82.78   \n",
       "15-19                 136                   $3.04               $412.89   \n",
       "20-24                 365                   $3.05             $1,114.06   \n",
       "25-29                 101                   $2.90               $293.00   \n",
       "30-34                  73                   $2.93               $214.00   \n",
       "35-39                  41                   $3.60               $147.67   \n",
       "40+                    13                   $2.94                $38.24   \n",
       "\n",
       "           Avg Total Purchase Per Person  \n",
       "Age Group                                 \n",
       "<10                                $4.54  \n",
       "10-14                              $3.76  \n",
       "15-19                              $3.86  \n",
       "20-24                              $4.32  \n",
       "25-29                              $3.81  \n",
       "30-34                              $4.12  \n",
       "35-39                              $4.76  \n",
       "40+                                $3.19  "
      ]
     },
     "execution_count": 23,
     "metadata": {},
     "output_type": "execute_result"
    }
   ],
   "source": [
    "#Formatting and display\n",
    "\n",
    "pd.options.display.float_format = '${:,.2f}'.format \n",
    "purchase_analysis_age=purchase_analysis_age.set_index(\"Age Group\") \n",
    "purchase_analysis_age\n"
   ]
  },
  {
   "cell_type": "markdown",
   "metadata": {},
   "source": [
    "## Top Spenders"
   ]
  },
  {
   "cell_type": "markdown",
   "metadata": {},
   "source": [
    "* Run basic calculations to obtain the results in the table below\n",
    "\n",
    "\n",
    "* Create a summary data frame to hold the results\n",
    "\n",
    "\n",
    "* Sort the total purchase value column in descending order\n",
    "\n",
    "\n",
    "* Optional: give the displayed data cleaner formatting\n",
    "\n",
    "\n",
    "* Display a preview of the summary data frame\n",
    "\n"
   ]
  },
  {
   "cell_type": "code",
   "execution_count": 24,
   "metadata": {},
   "outputs": [],
   "source": [
    "#Reorganize the file data by assigning SN as the first column, then group by SN and create variables to calculate various information\n",
    "\n",
    "purchase_data_sn = purchase_data[[\"SN\",\"Purchase ID\",\"Age\",\"Age Group\",\"Gender\",\"Item ID\",\"Item Name\",\"Price\" ]]\n",
    "purchase_data_sn_group = purchase_data_sn.groupby([\"SN\"])\n",
    "sn_count = purchase_data_sn_group[\"Price\"].count()\n",
    "sn_avg = purchase_data_sn_group[\"Price\"].mean()\n",
    "sn_total = purchase_data_sn_group[\"Price\"].sum()\n"
   ]
  },
  {
   "cell_type": "code",
   "execution_count": 25,
   "metadata": {},
   "outputs": [],
   "source": [
    "#Set up the Data Frame using the variables above\n",
    "\n",
    "purchase_data_sn_group = pd.DataFrame({\"Purchase Count\":sn_count,\n",
    "                                       \"Average Purchase Price\":sn_avg,\n",
    "                                       \"Total Purchase Value\":sn_total})\n"
   ]
  },
  {
   "cell_type": "code",
   "execution_count": 26,
   "metadata": {},
   "outputs": [
    {
     "data": {
      "text/html": [
       "<div>\n",
       "<style scoped>\n",
       "    .dataframe tbody tr th:only-of-type {\n",
       "        vertical-align: middle;\n",
       "    }\n",
       "\n",
       "    .dataframe tbody tr th {\n",
       "        vertical-align: top;\n",
       "    }\n",
       "\n",
       "    .dataframe thead th {\n",
       "        text-align: right;\n",
       "    }\n",
       "</style>\n",
       "<table border=\"1\" class=\"dataframe\">\n",
       "  <thead>\n",
       "    <tr style=\"text-align: right;\">\n",
       "      <th></th>\n",
       "      <th>Purchase Count</th>\n",
       "      <th>Average Purchase Price</th>\n",
       "      <th>Total Purchase Value</th>\n",
       "    </tr>\n",
       "    <tr>\n",
       "      <th>SN</th>\n",
       "      <th></th>\n",
       "      <th></th>\n",
       "      <th></th>\n",
       "    </tr>\n",
       "  </thead>\n",
       "  <tbody>\n",
       "    <tr>\n",
       "      <th>Lisosia93</th>\n",
       "      <td>5</td>\n",
       "      <td>$3.79</td>\n",
       "      <td>$18.96</td>\n",
       "    </tr>\n",
       "    <tr>\n",
       "      <th>Idastidru52</th>\n",
       "      <td>4</td>\n",
       "      <td>$3.86</td>\n",
       "      <td>$15.45</td>\n",
       "    </tr>\n",
       "    <tr>\n",
       "      <th>Chamjask73</th>\n",
       "      <td>3</td>\n",
       "      <td>$4.61</td>\n",
       "      <td>$13.83</td>\n",
       "    </tr>\n",
       "    <tr>\n",
       "      <th>Iral74</th>\n",
       "      <td>4</td>\n",
       "      <td>$3.40</td>\n",
       "      <td>$13.62</td>\n",
       "    </tr>\n",
       "    <tr>\n",
       "      <th>Iskadarya95</th>\n",
       "      <td>3</td>\n",
       "      <td>$4.37</td>\n",
       "      <td>$13.10</td>\n",
       "    </tr>\n",
       "  </tbody>\n",
       "</table>\n",
       "</div>"
      ],
      "text/plain": [
       "             Purchase Count  Average Purchase Price  Total Purchase Value\n",
       "SN                                                                       \n",
       "Lisosia93                 5                   $3.79                $18.96\n",
       "Idastidru52               4                   $3.86                $15.45\n",
       "Chamjask73                3                   $4.61                $13.83\n",
       "Iral74                    4                   $3.40                $13.62\n",
       "Iskadarya95               3                   $4.37                $13.10"
      ]
     },
     "execution_count": 26,
     "metadata": {},
     "output_type": "execute_result"
    }
   ],
   "source": [
    "#Sort values, format and display\n",
    "\n",
    "purchase_data_sn_group=purchase_data_sn_group.sort_values(\"Total Purchase Value\", ascending=False) \n",
    "pd.options.display.float_format = '${:,.2f}'.format\n",
    "purchase_data_sn_group.head()\n"
   ]
  },
  {
   "cell_type": "markdown",
   "metadata": {},
   "source": [
    "## Most Popular Items"
   ]
  },
  {
   "cell_type": "markdown",
   "metadata": {},
   "source": [
    "* Retrieve the Item ID, Item Name, and Item Price columns\n",
    "\n",
    "\n",
    "* Group by Item ID and Item Name. Perform calculations to obtain purchase count, item price, and total purchase value\n",
    "\n",
    "\n",
    "* Create a summary data frame to hold the results\n",
    "\n",
    "\n",
    "* Sort the purchase count column in descending order\n",
    "\n",
    "\n",
    "* Optional: give the displayed data cleaner formatting\n",
    "\n",
    "\n",
    "* Display a preview of the summary data frame\n",
    "\n"
   ]
  },
  {
   "cell_type": "code",
   "execution_count": 27,
   "metadata": {},
   "outputs": [],
   "source": [
    "##Reorganize the file data by assigning SN as the first column, then group by Item ID and Item Name and create variables to calculate various information\n",
    "\n",
    "purchase_data_popular = purchase_data[[\"Item ID\",\"Item Name\",\"SN\",\"Purchase ID\",\"Age\",\"Age Group\",\"Gender\",\"Price\"]]\n",
    "purchase_data_popular_renamed=purchase_data_popular.rename(columns={\"Price\":\"Item Price\"})\n",
    "purchase_data_popular_renamed_grouped=purchase_data_popular_renamed.groupby([\"Item ID\",\"Item Name\"])\n",
    "popular_count = purchase_data_popular_renamed_grouped[\"Item Price\"].count()\n",
    "popular_avg = purchase_data_popular_renamed_grouped[\"Item Price\"].mean()\n",
    "popular_total = purchase_data_popular_renamed_grouped[\"Item Price\"].sum()\n"
   ]
  },
  {
   "cell_type": "code",
   "execution_count": 28,
   "metadata": {},
   "outputs": [],
   "source": [
    "#Set up the Data Frame using the variables above\n",
    "\n",
    "purchase_data_popular_renamed_grouped=pd.DataFrame({\"Purchase Count\":popular_count,\n",
    "                                                   \"Item Price\":popular_avg,\n",
    "                                                  \"Total Purchase Value\": popular_total})\n"
   ]
  },
  {
   "cell_type": "code",
   "execution_count": 29,
   "metadata": {},
   "outputs": [
    {
     "data": {
      "text/html": [
       "<div>\n",
       "<style scoped>\n",
       "    .dataframe tbody tr th:only-of-type {\n",
       "        vertical-align: middle;\n",
       "    }\n",
       "\n",
       "    .dataframe tbody tr th {\n",
       "        vertical-align: top;\n",
       "    }\n",
       "\n",
       "    .dataframe thead th {\n",
       "        text-align: right;\n",
       "    }\n",
       "</style>\n",
       "<table border=\"1\" class=\"dataframe\">\n",
       "  <thead>\n",
       "    <tr style=\"text-align: right;\">\n",
       "      <th></th>\n",
       "      <th></th>\n",
       "      <th>Purchase Count</th>\n",
       "      <th>Item Price</th>\n",
       "      <th>Total Purchase Value</th>\n",
       "    </tr>\n",
       "    <tr>\n",
       "      <th>Item ID</th>\n",
       "      <th>Item Name</th>\n",
       "      <th></th>\n",
       "      <th></th>\n",
       "      <th></th>\n",
       "    </tr>\n",
       "  </thead>\n",
       "  <tbody>\n",
       "    <tr>\n",
       "      <th>178</th>\n",
       "      <th>Oathbreaker, Last Hope of the Breaking Storm</th>\n",
       "      <td>12</td>\n",
       "      <td>$4.23</td>\n",
       "      <td>$50.76</td>\n",
       "    </tr>\n",
       "    <tr>\n",
       "      <th>145</th>\n",
       "      <th>Fiery Glass Crusader</th>\n",
       "      <td>9</td>\n",
       "      <td>$4.58</td>\n",
       "      <td>$41.22</td>\n",
       "    </tr>\n",
       "    <tr>\n",
       "      <th>108</th>\n",
       "      <th>Extraction, Quickblade Of Trembling Hands</th>\n",
       "      <td>9</td>\n",
       "      <td>$3.53</td>\n",
       "      <td>$31.77</td>\n",
       "    </tr>\n",
       "    <tr>\n",
       "      <th>82</th>\n",
       "      <th>Nirvana</th>\n",
       "      <td>9</td>\n",
       "      <td>$4.90</td>\n",
       "      <td>$44.10</td>\n",
       "    </tr>\n",
       "    <tr>\n",
       "      <th>19</th>\n",
       "      <th>Pursuit, Cudgel of Necromancy</th>\n",
       "      <td>8</td>\n",
       "      <td>$1.02</td>\n",
       "      <td>$8.16</td>\n",
       "    </tr>\n",
       "  </tbody>\n",
       "</table>\n",
       "</div>"
      ],
      "text/plain": [
       "                                                      Purchase Count  \\\n",
       "Item ID Item Name                                                      \n",
       "178     Oathbreaker, Last Hope of the Breaking Storm              12   \n",
       "145     Fiery Glass Crusader                                       9   \n",
       "108     Extraction, Quickblade Of Trembling Hands                  9   \n",
       "82      Nirvana                                                    9   \n",
       "19      Pursuit, Cudgel of Necromancy                              8   \n",
       "\n",
       "                                                      Item Price  \\\n",
       "Item ID Item Name                                                  \n",
       "178     Oathbreaker, Last Hope of the Breaking Storm       $4.23   \n",
       "145     Fiery Glass Crusader                               $4.58   \n",
       "108     Extraction, Quickblade Of Trembling Hands          $3.53   \n",
       "82      Nirvana                                            $4.90   \n",
       "19      Pursuit, Cudgel of Necromancy                      $1.02   \n",
       "\n",
       "                                                      Total Purchase Value  \n",
       "Item ID Item Name                                                           \n",
       "178     Oathbreaker, Last Hope of the Breaking Storm                $50.76  \n",
       "145     Fiery Glass Crusader                                        $41.22  \n",
       "108     Extraction, Quickblade Of Trembling Hands                   $31.77  \n",
       "82      Nirvana                                                     $44.10  \n",
       "19      Pursuit, Cudgel of Necromancy                                $8.16  "
      ]
     },
     "execution_count": 29,
     "metadata": {},
     "output_type": "execute_result"
    }
   ],
   "source": [
    "#Sort values, format and display\n",
    "\n",
    "purchase_data_popular_renamed_grouped=purchase_data_popular_renamed_grouped.sort_values(\"Purchase Count\", ascending=False)\n",
    "pd.options.display.float_format = '${:,.2f}'.format\n",
    "purchase_data_popular_renamed_grouped.head()\n"
   ]
  },
  {
   "cell_type": "markdown",
   "metadata": {},
   "source": [
    "## Most Profitable Items"
   ]
  },
  {
   "cell_type": "markdown",
   "metadata": {},
   "source": [
    "* Sort the above table by total purchase value in descending order\n",
    "\n",
    "\n",
    "* Optional: give the displayed data cleaner formatting\n",
    "\n",
    "\n",
    "* Display a preview of the data frame\n",
    "\n"
   ]
  },
  {
   "cell_type": "code",
   "execution_count": 30,
   "metadata": {},
   "outputs": [
    {
     "data": {
      "text/html": [
       "<div>\n",
       "<style scoped>\n",
       "    .dataframe tbody tr th:only-of-type {\n",
       "        vertical-align: middle;\n",
       "    }\n",
       "\n",
       "    .dataframe tbody tr th {\n",
       "        vertical-align: top;\n",
       "    }\n",
       "\n",
       "    .dataframe thead th {\n",
       "        text-align: right;\n",
       "    }\n",
       "</style>\n",
       "<table border=\"1\" class=\"dataframe\">\n",
       "  <thead>\n",
       "    <tr style=\"text-align: right;\">\n",
       "      <th></th>\n",
       "      <th></th>\n",
       "      <th>Purchase Count</th>\n",
       "      <th>Item Price</th>\n",
       "      <th>Total Purchase Value</th>\n",
       "    </tr>\n",
       "    <tr>\n",
       "      <th>Item ID</th>\n",
       "      <th>Item Name</th>\n",
       "      <th></th>\n",
       "      <th></th>\n",
       "      <th></th>\n",
       "    </tr>\n",
       "  </thead>\n",
       "  <tbody>\n",
       "    <tr>\n",
       "      <th>178</th>\n",
       "      <th>Oathbreaker, Last Hope of the Breaking Storm</th>\n",
       "      <td>12</td>\n",
       "      <td>$4.23</td>\n",
       "      <td>$50.76</td>\n",
       "    </tr>\n",
       "    <tr>\n",
       "      <th>82</th>\n",
       "      <th>Nirvana</th>\n",
       "      <td>9</td>\n",
       "      <td>$4.90</td>\n",
       "      <td>$44.10</td>\n",
       "    </tr>\n",
       "    <tr>\n",
       "      <th>145</th>\n",
       "      <th>Fiery Glass Crusader</th>\n",
       "      <td>9</td>\n",
       "      <td>$4.58</td>\n",
       "      <td>$41.22</td>\n",
       "    </tr>\n",
       "    <tr>\n",
       "      <th>92</th>\n",
       "      <th>Final Critic</th>\n",
       "      <td>8</td>\n",
       "      <td>$4.88</td>\n",
       "      <td>$39.04</td>\n",
       "    </tr>\n",
       "    <tr>\n",
       "      <th>103</th>\n",
       "      <th>Singed Scalpel</th>\n",
       "      <td>8</td>\n",
       "      <td>$4.35</td>\n",
       "      <td>$34.80</td>\n",
       "    </tr>\n",
       "  </tbody>\n",
       "</table>\n",
       "</div>"
      ],
      "text/plain": [
       "                                                      Purchase Count  \\\n",
       "Item ID Item Name                                                      \n",
       "178     Oathbreaker, Last Hope of the Breaking Storm              12   \n",
       "82      Nirvana                                                    9   \n",
       "145     Fiery Glass Crusader                                       9   \n",
       "92      Final Critic                                               8   \n",
       "103     Singed Scalpel                                             8   \n",
       "\n",
       "                                                      Item Price  \\\n",
       "Item ID Item Name                                                  \n",
       "178     Oathbreaker, Last Hope of the Breaking Storm       $4.23   \n",
       "82      Nirvana                                            $4.90   \n",
       "145     Fiery Glass Crusader                               $4.58   \n",
       "92      Final Critic                                       $4.88   \n",
       "103     Singed Scalpel                                     $4.35   \n",
       "\n",
       "                                                      Total Purchase Value  \n",
       "Item ID Item Name                                                           \n",
       "178     Oathbreaker, Last Hope of the Breaking Storm                $50.76  \n",
       "82      Nirvana                                                     $44.10  \n",
       "145     Fiery Glass Crusader                                        $41.22  \n",
       "92      Final Critic                                                $39.04  \n",
       "103     Singed Scalpel                                              $34.80  "
      ]
     },
     "execution_count": 30,
     "metadata": {},
     "output_type": "execute_result"
    }
   ],
   "source": [
    "#Resort by Total Purchase Value in descending order, format and display\n",
    "\n",
    "purchase_data_popular_renamed_grouped=purchase_data_popular_renamed_grouped.sort_values(\"Total Purchase Value\", ascending=False)\n",
    "pd.options.display.float_format = '${:,.2f}'.format\n",
    "purchase_data_popular_renamed_grouped.head()\n",
    "\n"
   ]
  },
  {
   "cell_type": "code",
   "execution_count": null,
   "metadata": {},
   "outputs": [],
   "source": []
  },
  {
   "cell_type": "code",
   "execution_count": null,
   "metadata": {},
   "outputs": [],
   "source": []
  },
  {
   "cell_type": "code",
   "execution_count": null,
   "metadata": {},
   "outputs": [],
   "source": []
  }
 ],
 "metadata": {
  "anaconda-cloud": {},
  "kernel_info": {
   "name": "python3"
  },
  "kernelspec": {
   "display_name": "Python 3",
   "language": "python",
   "name": "python3"
  },
  "language_info": {
   "codemirror_mode": {
    "name": "ipython",
    "version": 3
   },
   "file_extension": ".py",
   "mimetype": "text/x-python",
   "name": "python",
   "nbconvert_exporter": "python",
   "pygments_lexer": "ipython3",
   "version": "3.6.7"
  },
  "nteract": {
   "version": "0.2.0"
  }
 },
 "nbformat": 4,
 "nbformat_minor": 2
}
